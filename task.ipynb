{
  "cells": [
    {
      "cell_type": "markdown",
      "metadata": {
        "id": "KuN1gryspft2"
      },
      "source": [
        "# **Task A: Compute Energy**"
      ]
    },
    {
      "cell_type": "code",
      "execution_count": 7,
      "metadata": {
        "colab": {
          "base_uri": "https://localhost:8080/"
        },
        "id": "GcOOCwV1nJ3-",
        "outputId": "7d8eda42-974c-4167-de55-df38b19b3bc3"
      },
      "outputs": [
        {
          "name": "stdout",
          "output_type": "stream",
          "text": [
            "Enter mass value (Press q to quit)\n",
            "1\n",
            "Energy =  9e+16  Joules\n",
            "Enter mass value (Press q to quit)\n",
            "q\n",
            "Quitting Program... Thankyou for using me\n"
          ]
        }
      ],
      "source": [
        "# Function to calculate the energy\n",
        "def calculate_energy(mass):\n",
        "  light_speed = 3 * (10**8)\n",
        "  energy = mass * light_speed**2\n",
        "  return energy\n",
        "\n",
        "# Function to display options on every iteration\n",
        "def options():\n",
        "  print(\"Enter mass value (Press q to quit)\")\n",
        "\n",
        "# Variable ued for controllling while loop\n",
        "isQuit = True\n",
        "\n",
        "# While loop to run the program\n",
        "while(isQuit):\n",
        "  options()\n",
        "  user_input = input()\n",
        "\n",
        "#O n pressing q, it quits the program\n",
        "  if(user_input == \"q\"):\n",
        "    isQuit = False\n",
        "    print(\"Quitting Program... Thankyou for using me\")\n",
        "\n",
        "\n",
        "# Checks if user input is empty\n",
        "  elif(user_input == \"\"):\n",
        "    print(\"Please enter any value\")\n",
        "\n",
        "# Checks is user input is not a numeric value\n",
        "  elif(not user_input.isnumeric()):\n",
        "    print(\"Invalid Input\")\n",
        "\n",
        "# Calculates the Energy\n",
        "  else:\n",
        "    mass = float(user_input)\n",
        "    print(\"Energy = \",calculate_energy(mass),\" Joules\")"
      ]
    },
    {
      "cell_type": "markdown",
      "metadata": {
        "id": "6L9aaHTnsRJR"
      },
      "source": [
        "# **Task B: Temperature Converter**"
      ]
    },
    {
      "cell_type": "code",
      "execution_count": 9,
      "metadata": {
        "colab": {
          "base_uri": "https://localhost:8080/"
        },
        "id": "pZhIomC5scOx",
        "outputId": "1b56e794-a8ee-491c-fd13-be01520ad341"
      },
      "outputs": [
        {
          "name": "stdout",
          "output_type": "stream",
          "text": [
            "Enter temperature in celsius: qw\n",
            "Invalid Input\n"
          ]
        }
      ],
      "source": [
        "# Function to convert Celsius into Fahrenheit\n",
        "def convert_celsius_to_fahrenheit(temperature):\n",
        "  cal_farenheit = ((9/5)*temperature )+32\n",
        "  return cal_farenheit\n",
        "\n",
        "# Input from user\n",
        "temperature = input(\"Enter temperature in celsius: \")\n",
        "\n",
        "# Checks if user input is not a numeric value\n",
        "if(not temperature.isnumeric()):\n",
        "  print(\"Invalid Input\")\n",
        "\n",
        "# Checks if user input is empty\n",
        "elif(temperature == \"\"):\n",
        "  print(\"Please enter any value\")\n",
        "\n",
        "# Converts celsius to farenheit\n",
        "else:\n",
        "  temperature = float(temperature)\n",
        "  print(convert_celsius_to_fahrenheit(temperature))"
      ]
    },
    {
      "cell_type": "markdown",
      "metadata": {
        "id": "H6xWCMZXt6za"
      },
      "source": [
        "# **Task C: Area of Circle Calculator**"
      ]
    },
    {
      "cell_type": "code",
      "execution_count": 4,
      "metadata": {
        "colab": {
          "base_uri": "https://localhost:8080/"
        },
        "id": "trvwCoGCuAox",
        "outputId": "063c3fdb-9d14-4188-f300-d77b5c91d1de"
      },
      "outputs": [
        {
          "name": "stdout",
          "output_type": "stream",
          "text": [
            "Enter radius of circle: 420\n",
            "553896.0\n"
          ]
        }
      ],
      "source": [
        "#Function to calculate area of circle\n",
        "def calculate_circle_area(radius):\n",
        "  return 3.14 * radius**2\n",
        "\n",
        "#Input from user\n",
        "radius = input(\"Enter radius of circle: \")\n",
        "\n",
        "# Checks if user input is empty\n",
        "if(radius == \"\"):\n",
        "  print(\"Please enter any value\")\n",
        "  exit()\n",
        "\n",
        "# Checks if user input is numeric\n",
        "if(not radius.isnumeric()):\n",
        "  print(\"Invalid Input\")\n",
        "  exit()\n",
        "\n",
        "# Calculates area of circle\n",
        "else:\n",
        "  radius = float(radius)\n",
        "  print(calculate_circle_area(radius))"
      ]
    },
    {
      "cell_type": "markdown",
      "metadata": {
        "id": "q_OCKVNOuZYf"
      },
      "source": [
        "# **Task D: Quadratic Equation Solver**"
      ]
    },
    {
      "cell_type": "code",
      "execution_count": 6,
      "metadata": {
        "colab": {
          "base_uri": "https://localhost:8080/"
        },
        "id": "pLm0vGb0ubG6",
        "outputId": "0266c388-5424-41eb-db45-98ec060fd180"
      },
      "outputs": [
        {
          "name": "stdout",
          "output_type": "stream",
          "text": [
            "Enter value of a: 2\n",
            "Enter value of b: 3\n",
            "Enter value of c: 1\n",
            "Root 1 =  -0.5\n",
            "Root 2 =  -1.0\n",
            "Roots are not equal\n",
            "Roots are imaginary\n",
            "End of program\n"
          ]
        }
      ],
      "source": [
        "# Function to calculate roots of equation\n",
        "def calculate_roots(a,b,c):\n",
        "  x1 = (-b + ((b**2)-4*a*c)**(1/2)) / (2*a)\n",
        "  x2 = (-b - ((b**2)-4*a*c)**(1/2)) / (2*a)\n",
        "  return [x1,x2]\n",
        "\n",
        "\n",
        "def user_input():\n",
        "  # Input from user\n",
        "  a = input(\"Enter value of a: \")\n",
        "  b = input(\"Enter value of b: \")\n",
        "  c = input(\"Enter value of c: \")\n",
        "\n",
        "  # Checks if user input is empty\n",
        "  if(a == \"\" or b == \"\" or c == \"\"):\n",
        "    print(\"Please enter any value\")\n",
        "    exit()\n",
        "\n",
        "  # Checks if user input is numeric\n",
        "  if(not a.isnumeric() or not b.isnumeric() or not c.isnumeric()):\n",
        "    print(\"Invalid Input\")\n",
        "    exit()\n",
        "\n",
        "  # Checks if a is zero\n",
        "  if(a == 0):\n",
        "    print(\"Invalid Input\")\n",
        "    exit()\n",
        "\n",
        "  # Calculates roots of equation\n",
        "  a = float(a)\n",
        "  b = float(b)\n",
        "  c = float(c)\n",
        "\n",
        "  return [a,b,c]\n",
        "a,b,c = user_input()\n",
        "root1, root2 = calculate_roots(a,b,c)\n",
        "print(\"Root 1 = \",root1)\n",
        "print(\"Root 2 = \",root2)\n",
        "\n",
        "# Checks if roots are equal\n",
        "if(root1 == root2):\n",
        "  print(\"Roots are equal\")\n",
        "else:\n",
        "  print(\"Roots are not equal\")\n",
        "\n",
        "# Checks if roots are imaginary\n",
        "if(root1 < 0 or root2 < 0):\n",
        "  print(\"Roots are imaginary\")\n",
        "else:\n",
        "  print(\"Roots are real\")\n",
        "print(\"End of program\")"
      ]
    }
  ],
  "metadata": {
    "colab": {
      "provenance": []
    },
    "kernelspec": {
      "display_name": "Python 3",
      "name": "python3"
    },
    "language_info": {
      "name": "python"
    },
    "nteract": {
      "version": "nteract-front-end@1.0.0"
    }
  },
  "nbformat": 4,
  "nbformat_minor": 0
}
